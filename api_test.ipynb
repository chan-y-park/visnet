{
 "cells": [
  {
   "cell_type": "code",
   "execution_count": null,
   "metadata": {
    "ExecuteTime": {
     "end_time": "2017-05-04T21:16:06.273655Z",
     "start_time": "2017-05-04T17:16:05.266780-04:00"
    },
    "collapsed": false,
    "deletable": true,
    "editable": true
   },
   "outputs": [],
   "source": [
    "%matplotlib inline\n",
    "\n",
    "from api import InputImage\n",
    "from api import get_all_deconv_results\n",
    "from api import get_deconv_images"
   ]
  },
  {
   "cell_type": "code",
   "execution_count": null,
   "metadata": {
    "ExecuteTime": {
     "end_time": "2017-05-04T21:16:06.890059Z",
     "start_time": "2017-05-04T17:16:06.847528-04:00"
    },
    "collapsed": false,
    "deletable": true,
    "editable": true
   },
   "outputs": [],
   "source": [
    "image_path = 'ILSVRC2012_val_00008338.jpg'\n",
    "input_image = InputImage(image_path).get_resized_image(224)\n",
    "input_image.image"
   ]
  },
  {
   "cell_type": "code",
   "execution_count": null,
   "metadata": {
    "ExecuteTime": {
     "end_time": "2017-05-04T21:16:10.892303Z",
     "start_time": "2017-05-04T17:16:07.744806-04:00"
    },
    "collapsed": false
   },
   "outputs": [],
   "source": [
    "num_top_features=3\n",
    "\n",
    "rd = get_all_deconv_results(\n",
    "    input_image,\n",
    "    log_device_placement=True,\n",
    "    num_top_features=num_top_features,\n",
    "    use_cpu=False,\n",
    "    full_deconv=True,\n",
    ")"
   ]
  },
  {
   "cell_type": "code",
   "execution_count": null,
   "metadata": {
    "ExecuteTime": {
     "end_time": "2017-05-04T21:16:14.659274Z",
     "start_time": "2017-05-04T17:16:11.529376-04:00"
    },
    "collapsed": false
   },
   "outputs": [],
   "source": [
    "save_file_path = 'deconv_images.svg'\n",
    "\n",
    "get_deconv_images(\n",
    "    input_image,\n",
    "    save_path='deconv_images.svg',\n",
    "    num_top_features=num_top_features,\n",
    "    deconv_layers=rd['deconv_layers'],\n",
    ")"
   ]
  },
  {
   "cell_type": "code",
   "execution_count": null,
   "metadata": {
    "collapsed": true
   },
   "outputs": [],
   "source": []
  }
 ],
 "metadata": {
  "anaconda-cloud": {},
  "kernelspec": {
   "display_name": "Python 3",
   "language": "python",
   "name": "python3"
  },
  "language_info": {
   "codemirror_mode": {
    "name": "ipython",
    "version": 3
   },
   "file_extension": ".py",
   "mimetype": "text/x-python",
   "name": "python",
   "nbconvert_exporter": "python",
   "pygments_lexer": "ipython3",
   "version": "3.6.1"
  },
  "latex_envs": {
   "LaTeX_envs_menu_present": true,
   "autocomplete": true,
   "bibliofile": "biblio.bib",
   "cite_by": "apalike",
   "current_citInitial": 1,
   "eqLabelWithNumbers": true,
   "eqNumInitial": 1,
   "hotkeys": {
    "equation": "Ctrl-E",
    "itemize": "Ctrl-I"
   },
   "labels_anchors": false,
   "latex_user_defs": false,
   "report_style_numbering": false,
   "user_envs_cfg": false
  }
 },
 "nbformat": 4,
 "nbformat_minor": 0
}
